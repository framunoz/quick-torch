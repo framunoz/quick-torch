{
 "cells": [
  {
   "cell_type": "markdown",
   "metadata": {},
   "source": [
    "You can get a category from the `Category` enumerator with the following code. The `Category` enumerator has all the categories provided by the QuickDraw dataset. I strongly recommend using this tool, otherwise you can use a string instead, with the danger of making a typo in the process."
   ]
  },
  {
   "cell_type": "code",
   "execution_count": null,
   "metadata": {},
   "outputs": [],
   "source": [
    "from quick_torch import Category\n",
    "\n",
    "Category.THE_EIFFEL_TOWER"
   ]
  },
  {
   "cell_type": "markdown",
   "metadata": {},
   "source": [
    "You can create an instance of `QuickDraw` with the following code. You can specify the category, get the recognized data, download the dataset and transform the images."
   ]
  },
  {
   "cell_type": "code",
   "execution_count": null,
   "metadata": {},
   "outputs": [],
   "source": [
    "from quick_torch import QuickDraw\n",
    "import torchvision.transforms as T\n",
    "\n",
    "\n",
    "ds = QuickDraw(\n",
    "    root=\"dataset\", \n",
    "    categories=Category.FACE, \n",
    "    download=True, \n",
    "    transform=T.Resize((128, 128))\n",
    ")\n",
    "print(f\"{len(ds) = }\")\n",
    "first_data = ds[0]\n",
    "first_data"
   ]
  },
  {
   "cell_type": "code",
   "execution_count": null,
   "metadata": {},
   "outputs": [],
   "source": [
    "first_data[0]"
   ]
  },
  {
   "cell_type": "markdown",
   "metadata": {},
   "source": [
    "As you can see, the data comes with an image and a target. Here are another example using a string in the category."
   ]
  },
  {
   "cell_type": "code",
   "execution_count": null,
   "metadata": {},
   "outputs": [],
   "source": [
    "ds = QuickDraw(\n",
    "    root=\"dataset\", \n",
    "    categories=\"cat\", \n",
    "    download=True, \n",
    "    transform=T.Resize((128, 128))\n",
    ")\n",
    "print(f\"{len(ds) = }\")\n",
    "ds[0][0]"
   ]
  },
  {
   "cell_type": "markdown",
   "metadata": {},
   "source": [
    "You can also provide a list of categories to obtain a dataset with those categories."
   ]
  },
  {
   "cell_type": "code",
   "execution_count": null,
   "metadata": {},
   "outputs": [],
   "source": [
    "ds = QuickDraw(\n",
    "    root=\"dataset\", \n",
    "    categories=[Category.FACE, \"cat\"], \n",
    "    download=True, \n",
    "    transform=T.Resize((128, 128))\n",
    ")\n",
    "print(f\"{len(ds) = }\")\n",
    "face, cat = ds[0], ds[-1]\n",
    "print(f\"Category of face: {face[1]}.\\nCategory of cat: {cat[1]}\")\n",
    "face[0]"
   ]
  },
  {
   "cell_type": "code",
   "execution_count": null,
   "metadata": {},
   "outputs": [],
   "source": [
    "cat[0]"
   ]
  },
  {
   "cell_type": "markdown",
   "metadata": {},
   "source": [
    "You can use only \"recognized\" data by choosing the `recognized` parameter. This means that the Google neural network recognized that image in the game (and therefore, it will be of better \"quality\"). By default, this parameter is `None` (i.e. it returns the entire data set)."
   ]
  },
  {
   "cell_type": "code",
   "execution_count": null,
   "metadata": {},
   "outputs": [],
   "source": [
    "ds = QuickDraw(\n",
    "    root=\"dataset\", \n",
    "    categories=\"cat\", \n",
    "    recognized=False, \n",
    "    download=True, \n",
    "    transform=T.Resize((128, 128))\n",
    ")\n",
    "print(f\"{len(ds) = }\")\n",
    "ds[0][0]"
   ]
  },
  {
   "cell_type": "markdown",
   "metadata": {},
   "source": [
    "You can split the data set into train or test with the `train` parameter. This option uses the `train_percentage` parameter to define which training percentage to use. In addition, you can define the seed with the `seed` parameter for reproducibility. By default this seed is kept fixed with a given value."
   ]
  },
  {
   "cell_type": "code",
   "execution_count": null,
   "metadata": {},
   "outputs": [],
   "source": [
    "ds_train = QuickDraw(\n",
    "    root=\"dataset\", \n",
    "    categories=\"cat\", \n",
    "    transform=T.Resize((128, 128)),\n",
    "    train=True,\n",
    "    train_percentage=0.9,\n",
    "    seed=42,\n",
    ")\n",
    "ds_test = QuickDraw(\n",
    "    root=\"dataset\", \n",
    "    categories=\"cat\", \n",
    "    transform=T.Resize((128, 128)),\n",
    "    train=False,\n",
    "    train_percentage=0.9,\n",
    "    seed=42,\n",
    ")\n",
    "print(f\"{len(ds_train) = }, {len(ds_test) = }\")\n",
    "ds_test[0][0]"
   ]
  },
  {
   "cell_type": "markdown",
   "metadata": {},
   "source": [
    "Finally, you can choose the maximum number of images per class with the `max_items_per_class` parameter. This is useful if you want to use more than one category. In the next cell there is an example."
   ]
  },
  {
   "cell_type": "code",
   "execution_count": null,
   "metadata": {},
   "outputs": [],
   "source": [
    "ds = QuickDraw(\n",
    "    root=\"dataset\", \n",
    "    categories=list(Category)[:5],\n",
    "    max_items_per_class=10_000,\n",
    "    download=True,\n",
    "    transform=T.Resize((128, 128)),\n",
    ")"
   ]
  },
  {
   "cell_type": "code",
   "execution_count": null,
   "metadata": {},
   "outputs": [],
   "source": [
    "len(ds)"
   ]
  }
 ],
 "metadata": {
  "kernelspec": {
   "display_name": ".venv",
   "language": "python",
   "name": "python3"
  },
  "language_info": {
   "codemirror_mode": {
    "name": "ipython",
    "version": 3
   },
   "file_extension": ".py",
   "mimetype": "text/x-python",
   "name": "python",
   "nbconvert_exporter": "python",
   "pygments_lexer": "ipython3",
   "version": "3.10.12"
  }
 },
 "nbformat": 4,
 "nbformat_minor": 2
}
